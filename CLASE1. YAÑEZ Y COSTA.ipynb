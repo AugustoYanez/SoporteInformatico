{
  "nbformat": 4,
  "nbformat_minor": 0,
  "metadata": {
    "colab": {
      "provenance": []
    },
    "kernelspec": {
      "name": "python3",
      "display_name": "Python 3"
    },
    "language_info": {
      "name": "python"
    }
  },
  "cells": [
    {
      "cell_type": "code",
      "execution_count": null,
      "metadata": {
        "id": "a--S3it28AOB"
      },
      "outputs": [],
      "source": [
        "def eliminarespacios(lista):\n",
        "    listasinespacios = [elemento.replace(\" \", \"\") for elemento in lista]\n",
        "    return listasin_espacios\n",
        "\n",
        "def main():\n",
        "\n",
        "    elementos = input(\"Ingresa los elementos de la lista separados por comas: \").split(',')\n",
        "    elementos_sin_espacios = eliminar_espacios(elementos)\n",
        "    print(\"Lista con elementos sin espacios:\", elementos_sin_espacios)\n",
        "\n",
        "if __name == \"__main\":\n",
        "    main()"
      ]
    }
  ]
}