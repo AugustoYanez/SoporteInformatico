{
  "nbformat": 4,
  "nbformat_minor": 0,
  "metadata": {
    "colab": {
      "provenance": []
    },
    "kernelspec": {
      "name": "python3",
      "display_name": "Python 3"
    },
    "language_info": {
      "name": "python"
    }
  },
  "cells": [
    {
      "cell_type": "code",
      "source": [
        "import requests\n",
        "from bs4 import BeautifulSoup\n",
        "import pandas as pd\n",
        "\n",
        "# url de promiedos\n",
        "\n",
        "pagina = requests.get(\"https://www.promiedos.com.ar/primera\")\n",
        "contenido = BeautifulSoup(pagina.content, \"html.parser\")\n",
        "tablas = contenido.find('table', {'id': 'posiciones'})\n",
        "\n",
        "if tablas:\n",
        "    equipos = []\n",
        "    for row in tablas.find('tbody').find_all('tr'):\n",
        "        columnas = row.find_all('td')\n",
        "        posicion = columnas[0].text.strip()\n",
        "        equipo = columnas[1].text.strip()\n",
        "        puntos = columnas[2].text.strip()\n",
        "        jugados = columnas[3].text.strip()\n",
        "        g = columnas[4].text.strip()\n",
        "        e = columnas[5].text.strip()\n",
        "        p = columnas[6].text.strip()\n",
        "        gf = columnas[7].text.strip()\n",
        "        gc = columnas[8].text.strip()\n",
        "        dg = columnas[9].text.strip()\n",
        "\n",
        "        equipos.append([posicion, equipo, puntos, jugados, g, e, p, gf, gc, dg])\n",
        "\n",
        "    df = pd.DataFrame(equipos, columns=['Posicion', 'Equipo', 'Puntos', 'Jugados', 'G', 'E', 'P', 'GF', 'GC', 'DG'])\n",
        "    # Guardar en CSV\n",
        "    df.to_csv('promiedosTabla.csv', index=False)\n",
        "    print(\"Guardado con exito.\")\n",
        "else:\n",
        "    print(\"No se encontró la tabla en la página\")\n"
      ],
      "metadata": {
        "colab": {
          "base_uri": "https://localhost:8080/"
        },
        "id": "zE6r7_leb-IF",
        "outputId": "59a82417-d7d2-41f7-8d50-28e50c118f8b"
      },
      "execution_count": 43,
      "outputs": [
        {
          "output_type": "stream",
          "name": "stdout",
          "text": [
            "Guardado con exito.\n"
          ]
        }
      ]
    }
  ]
}